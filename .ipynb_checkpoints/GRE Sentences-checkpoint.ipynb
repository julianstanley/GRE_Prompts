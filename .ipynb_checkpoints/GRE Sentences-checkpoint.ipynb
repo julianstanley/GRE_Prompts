{
 "cells": [
  {
   "cell_type": "code",
   "execution_count": 18,
   "metadata": {},
   "outputs": [],
   "source": [
    "from bs4 import BeautifulSoup\n",
    "import requests\n",
    "from urllib.request import urlopen\n",
    "import pandas as pd\n",
    "from sklearn.feature_extraction.text import TfidfVectorizer\n",
    "import collections\n",
    "from nltk import word_tokenize\n",
    "from nltk.corpus import stopwords\n",
    "from nltk.stem import PorterStemmer\n",
    "from sklearn.cluster import KMeans\n",
    "from sklearn.feature_extraction.text import TfidfVectorizer\n",
    "from pprint import pprint\n",
    "from difflib import SequenceMatcher"
   ]
  },
  {
   "cell_type": "code",
   "execution_count": 19,
   "metadata": {},
   "outputs": [],
   "source": [
    "def scrape_and_parse(site):\n",
    "    ''' Grabs prompts from the ETS site\n",
    "    '''\n",
    "    page = urlopen(site).read()\n",
    "    content = BeautifulSoup(page, \"lxml\")\n",
    "\n",
    "    prompts = []\n",
    "    \n",
    "    # divider-50 tags sep topics\n",
    "    for topic_header in content.find_all(\"div\", {\"class\": \"divider-50\"}):\n",
    "        # Topic is is contained in <p> tags\n",
    "        iter_tag = topic_header.find_next_sibling()\n",
    "        topic_string, iter_tag = grab_non_div_tag_content(iter_tag)\n",
    "        # Skip over div string\n",
    "        iter_tag = iter_tag.find_next()\n",
    "        # Grab instruction string\n",
    "        instruction_string, iter_tag = grab_non_div_tag_content(iter_tag)\n",
    "\n",
    "        prompt_obj = Prompt(topic_string, instruction_string)\n",
    "        prompts.append(prompt_obj)\n",
    "\n",
    "    return prompts \n",
    "\n",
    "def grab_non_div_tag_content(tag):\n",
    "    ''' Grabs any non-div tag content from a tag\n",
    "    '''\n",
    "    string = str()\n",
    "    while tag.name != 'div':\n",
    "        if not tag.string == None:\n",
    "            string += tag.string + '\\n'\n",
    "        # Edge case where italics mess us the .string function\n",
    "        elif tag.name == 'p':\n",
    "            string += tag.contents[0]\n",
    "\n",
    "        tag = tag.find_next()\n",
    "\n",
    "    return (string, tag)\n",
    "\n",
    "class Prompt:\n",
    "    ''' Class for storing topics and instructions\n",
    "    '''\n",
    "    def __init__(self, topic, instructions):\n",
    "        self.topic = topic.encode('ascii', 'replace')\n",
    "        self.instructions = instructions.encode('ascii', 'replace')\n",
    "\n",
    "    def copy(self):\n",
    "        return copy.deepcopy(self)"
   ]
  },
  {
   "cell_type": "code",
   "execution_count": 20,
   "metadata": {},
   "outputs": [],
   "source": [
    "prompts_issue = scrape_and_parse(\"https://www.ets.org/gre/revised_general/prepare/analytical_writing/issue/pool\")"
   ]
  },
  {
   "cell_type": "code",
   "execution_count": 21,
   "metadata": {},
   "outputs": [],
   "source": [
    "prompts_argument = scrape_and_parse(\"https://www.ets.org/gre/revised_general/prepare/analytical_writing/argument/pool\")"
   ]
  },
  {
   "cell_type": "code",
   "execution_count": 22,
   "metadata": {},
   "outputs": [
    {
     "name": "stdout",
     "output_type": "stream",
     "text": [
      "There are 149 issue prompts and 175 argument prompts\n"
     ]
    }
   ],
   "source": [
    "print(f'There are {len(prompts_issue)} issue prompts and {len(prompts_argument)} argument prompts')"
   ]
  },
  {
   "cell_type": "code",
   "execution_count": 23,
   "metadata": {},
   "outputs": [],
   "source": [
    "import re\n",
    "track_words = {}\n",
    "for index, issue in enumerate(prompts_issue):\n",
    "    topic = str(issue.topic)\n",
    "    topic = topic[1:len(topic)-2]\n",
    "    topic_clean = topic.replace(\"\\n\", \" \")\n",
    "    topic_clean = re.sub(\"[^a-zA-Z]\", \" \", topic)\n",
    "    words = topic_clean.split()\n",
    "    for word in words:\n",
    "        if word in track_words:\n",
    "            if index not in track_words[word]:\n",
    "                track_words[word].append(index)\n",
    "        else:\n",
    "            track_words[word] = [index]"
   ]
  },
  {
   "cell_type": "code",
   "execution_count": 24,
   "metadata": {},
   "outputs": [],
   "source": [
    "count_words = {}\n",
    "for key, values in track_words.items():\n",
    "    count_words[key] = len(values)"
   ]
  },
  {
   "cell_type": "code",
   "execution_count": 25,
   "metadata": {},
   "outputs": [],
   "source": [
    "sentences = []\n",
    "for index, issue in enumerate(prompts_issue):\n",
    "    topic = str(issue.topic)\n",
    "    topic_clean = re.sub(\"[^a-zA-Z]\", \" \", topic)\n",
    "    topic_clean = topic_clean[2:len(topic_clean)-2]\n",
    "    sentences.append(topic_clean)\n",
    "    "
   ]
  },
  {
   "cell_type": "code",
   "execution_count": 26,
   "metadata": {},
   "outputs": [],
   "source": [
    "def word_tokenizer(text):\n",
    "        #tokenizes and stems the text\n",
    "        tokens = word_tokenize(text)\n",
    "        stemmer = PorterStemmer()\n",
    "        tokens = [stemmer.stem(t) for t in tokens if t not in stopwords.words('english')]\n",
    "        return tokens\n",
    "\n",
    "\n",
    "def cluster_sentences(sentences, nb_of_clusters=5):\n",
    "        tfidf_vectorizer = TfidfVectorizer(tokenizer=word_tokenizer,\n",
    "                                        stop_words=stopwords.words('english'),\n",
    "                                        max_df=0.9,\n",
    "                                        min_df=0.1,\n",
    "                                        lowercase=True)\n",
    "        #builds a tf-idf matrix for the sentences\n",
    "        tfidf_matrix = tfidf_vectorizer.fit_transform(sentences)\n",
    "        kmeans = KMeans(n_clusters=nb_of_clusters)\n",
    "        kmeans.fit(tfidf_matrix)\n",
    "        clusters = collections.defaultdict(list)\n",
    "        for i, label in enumerate(kmeans.labels_):\n",
    "                clusters[label].append(i)\n",
    "        return dict(clusters)"
   ]
  },
  {
   "cell_type": "code",
   "execution_count": 27,
   "metadata": {},
   "outputs": [
    {
     "name": "stderr",
     "output_type": "stream",
     "text": [
      "[nltk_data] Downloading package stopwords to /home/julian/nltk_data...\n",
      "[nltk_data]   Package stopwords is already up-to-date!\n",
      "[nltk_data] Downloading package punkt to /home/julian/nltk_data...\n",
      "[nltk_data]   Package punkt is already up-to-date!\n"
     ]
    },
    {
     "data": {
      "text/plain": [
       "True"
      ]
     },
     "execution_count": 27,
     "metadata": {},
     "output_type": "execute_result"
    }
   ],
   "source": [
    "import nltk\n",
    "nltk.download('stopwords')\n",
    "nltk.download('punkt')"
   ]
  },
  {
   "cell_type": "code",
   "execution_count": 28,
   "metadata": {},
   "outputs": [
    {
     "name": "stderr",
     "output_type": "stream",
     "text": [
      "/home/julian/.local/lib/python3.7/site-packages/sklearn/feature_extraction/text.py:300: UserWarning: Your stop_words may be inconsistent with your preprocessing. Tokenizing the stop words generated tokens [\"'d\", \"'ll\", \"'re\", \"'s\", \"'ve\", 'could', 'might', 'must', \"n't\", 'need', 'sha', 'wo', 'would'] not in stop_words.\n",
      "  'stop_words.' % sorted(inconsistent))\n"
     ]
    },
    {
     "name": "stdout",
     "output_type": "stream",
     "text": [
      "cluster 0:\n",
      "\tsentence 0: Scandals are useful because they focus our attention on problems in ways that no speaker or reformer ever could  \n",
      "\tsentence 1: Laws should be flexible enough to take account of various circumstances  times  and places  \n",
      "\tsentence 2: The best way to teach is to praise positive actions and ignore negative ones  \n",
      "\tsentence 3: As we acquire more knowledge  things do not become more comprehensible  but more complex and mysterious  \n",
      "\tsentence 4: It is primarily through our identification with social groups that we define ourselves  \n",
      "\tsentence 5: The greatness of individuals can be decided only by those who live after them  not by their contemporaries  \n",
      "\tsentence 6: The increasingly rapid pace of life today causes more problems than it solves  \n",
      "\tsentence 7: The best way to teach is to praise positive actions and ignore negative ones  \n",
      "\tsentence 8: If a goal is worthy  then any means taken to attain it are justifiable  \n",
      "\tsentence 9: Many important discoveries or creations are accidental  it is usually while seeking the answer to one question that we come across the answer to another  \n",
      "\tsentence 10: Politicians should pursue common ground and reasonable consensus rather than elusive ideals  \n",
      "\tsentence 11: Leaders are created by the demands that are placed on them  \n",
      "\tsentence 12: The human mind will always be superior to machines because machines are only tools of human minds  \n",
      "\tsentence 13: The most effective way to understand contemporary culture is to analyze the trends of its youth  \n",
      "\tsentence 14: The effectiveness of a country s leaders is best measured by examining the well being of that country s citizens  \n",
      "\tsentence 15: The best ideas arise from a passionate interest in commonplace things  \n",
      "\tsentence 16: To be an effective leader  a public official must maintain the highest ethical and moral standards  \n",
      "\tsentence 17: To be an effective leader  a public official must maintain the highest ethical and moral standards  \n",
      "\tsentence 18: Any leader who is quickly and easily influenced by shifts in popular opinion will accomplish little  \n",
      "\tsentence 19: When old buildings stand on ground that modern planners feel could be better used for modern purposes  modern development should be given precedence over the preservation of historic buildings  \n",
      "\tsentence 20: It is more harmful to compromise one s own beliefs than to adhere to them  \n",
      "\tsentence 21: True success can be measured primarily in terms of the goals one sets for oneself  \n",
      "\tsentence 22: The best test of an argument is the argument s ability to convince someone with an opposing viewpoint  \n",
      "\tsentence 23: The effectiveness of a country s leaders is best measured by examining the well being of that country s citizens  \n",
      "\tsentence 24: The best way to solve environmental problems caused by consumer generated waste is for towns and cities to impose strict limits on the amount of trash they will accept from each household  \n",
      "\tsentence 25: We learn our most valuable lessons in life from struggling with our limitations rather than from enjoying our successes  \n",
      "cluster 1:\n",
      "\tsentence 0: Universities should require every student to take a variety of courses outside the student s field of study  \n",
      "\tsentence 1: Universities should require every student to take a variety of courses outside the student s field of study  \n",
      "\tsentence 2: Claim  Universities should require every student to take a variety of courses outside the student s major field of study  nReason  Acquiring knowledge of various academic disciplines is the best way to become truly educated  \n",
      "\tsentence 3: Universities should require every student to take a variety of courses outside the student s field of study  \n",
      "\tsentence 4: Requiring university students to take a variety of courses outside their major fields of study is the best way to ensure that students become truly educated  \n",
      "\tsentence 5: Some people believe that universities should require every student to take a variety of courses outside the student s field of study  Others believe that universities should not force students to take any courses other than those that will help prepare them for jobs in their chosen fields  \n",
      "cluster 2:\n",
      "\tsentence 0: People s behavior is largely determined by forces not of their own making  \n",
      "\tsentence 1: Some people believe that in order to be effective  political leaders must yield to public opinion and abandon principle for the sake of compromise  Others believe that the most essential quality of an effective leader is the ability to remain consistently committed to particular principles and objectives  \n",
      "\tsentence 2: The luxuries and conveniences of contemporary life prevent people from developing into truly strong and independent individuals  \n",
      "\tsentence 3: Young people should be encouraged to pursue long term  realistic goals rather than seek immediate fame and recognition  \n",
      "\tsentence 4: In order for any work of art   for example  a film  a novel  a poem  or a song   to have merit  it must be understandable to most people  \n",
      "\tsentence 5: The main benefit of the study of history is to dispel the illusion that people living now are significantly different from people who lived in earlier times  \n",
      "\tsentence 6: Scientists and other researchers should focus their research on areas that are likely to benefit the greatest number of people  \n",
      "\tsentence 7: People should undertake risky action only after they have carefully considered its consequences  \n",
      "\tsentence 8: People who are the most deeply committed to an idea or policy are also the most critical of it  \n",
      "\tsentence 9: Some people believe it is often necessary  even desirable  for political leaders to withhold information from the public  Others believe that the public has a right to be fully informed  \n",
      "\tsentence 10: Young people should be encouraged to pursue long term  realistic goals rather than seek immediate fame and recognition  \n",
      "\tsentence 11: Knowing about the past cannot help people to make important decisions today  \n",
      "\tsentence 12: We can usually learn much more from people whose views we share than from people whose views contradict our own  \n",
      "\tsentence 13: The primary goal of technological advancement should be to increase people s efficiency so that they have more leisure time  \n",
      "\tsentence 14: People s behavior is largely determined by forces not of their own making  \n",
      "\tsentence 15: Some people believe that scientific discoveries have given us a much better understanding of the world around us  Others believe that science has revealed to us that the world is infinitely more complex than we ever realized  \n",
      "\tsentence 16: We can learn much more from people whose views we share than from people whose views contradict our own  \n",
      "\tsentence 17: Some people believe that our ever increasing use of technology significantly reduces our opportunities for human interaction  Other people believe that technology provides us with new and better ways to communicate and connect with one another  \n",
      "cluster 3:\n",
      "\tsentence 0: Nations should pass laws to preserve any remaining wilderness areas in their natural state  even if these areas could be developed for economic gain  \n",
      "\tsentence 1: The surest indicator of a great nation is represented not by the achievements of its rulers  artists  or scientists  but by the general welfare of its people  \n",
      "\tsentence 2: Claim  The surest indicator of a great nation is not the achievements of its rulers  artists  or scientists  nReason  The surest indicator of a great nation is actually the welfare of all its people  \n",
      "\tsentence 3: It is primarily in cities that a nation s cultural traditions are generated and preserved  \n",
      "\tsentence 4: Claim  The surest indicator of a great nation must be the achievements of its rulers  artists  or scientists  nReason  Great achievements by a nation s rulers  artists  or scientists will ensure a good life for the majority of that nation s people  \n",
      "\tsentence 5: Some people claim that you can tell whether a nation is great by looking at the achievements of its rulers  artists  or scientists  Others argue that the surest indicator of a great nation is  in fact  the general welfare of all its people  \n",
      "\tsentence 6: The surest indicator of a great nation is not the achievements of its rulers  artists  or scientists  but the general well being of all its people  \n",
      "\tsentence 7: The general welfare of a nation s people is a better indication of that nation s greatness than are the achievements of its rulers  artists  or scientists  \n",
      "\tsentence 8: Nations should pass laws to preserve any remaining wilderness areas in their natural state  \n",
      "cluster 4:\n",
      "\tsentence 0: Claim  It is no longer possible for a society to regard any living man or woman as a hero  nReason  The reputation of anyone who is subjected to media scrutiny will eventually be diminished  \n",
      "\tsentence 1: Claim  We can usually learn much more from people whose views we share than from those whose views contradict our own  nReason  Disagreement can cause stress and inhibit learning  \n",
      "\tsentence 2: Claim  Any piece of information referred to as a fact should be mistrusted  since it may well be proven false in the future  nReason  Much of the information that people assume is factual actually turns out to be inaccurate  \n",
      "\tsentence 3: Claim  Many problems of modern society cannot be solved by laws and the legal system  nReason  Laws cannot change what is in people s hearts or minds  \n",
      "\tsentence 4: Claim  Imagination is a more valuable asset than experience  nReason  People who lack experience are free to imagine what is possible without the constraints of established habits and attitudes  \n",
      "\tsentence 5: Claim  Researchers should not limit their investigations to only those areas in which they expect to discover something that has an immediate  practical application  nReason  It is impossible to predict the outcome of a line of research with any certainty  \n",
      "\tsentence 6: Claim  Knowing about the past cannot help people to make important decisions today  nReason  The world today is significantly more complex than it was even in the relatively recent past  \n",
      "\tsentence 7: Claim  Knowing about the past cannot help people to make important decisions today  nReason  We are not able to make connections between current events and past events until we have some distance from both  \n",
      "\tsentence 8: Some people claim that the goal of politics should be the pursuit of an ideal  Others argue that the goal should be finding common ground and reaching reasonable consensus  \n",
      "\tsentence 9: Claim  While boredom is often expressed with a sense of self satisfaction  it should really be a source of embarrassment  nReason  Boredom arises from a lack of imagination and self motivation  \n",
      "\tsentence 10: Claim  Though often considered an objective pursuit  learning about the historical past requires creativity  nReason  Because we can never know the past directly  we must reconstruct it by imaginatively interpreting historical accounts  documents  and artifacts  \n",
      "\tsentence 11: Claim  No act is done purely for the benefit of others  nReason  All actions   even those that seem to be done for other people   are based on self interest  \n",
      "cluster 5:\n",
      "\tsentence 0: In any field of endeavor  it is impossible to make a significant contribution without first being strongly influenced by past achievements within that field  \n",
      "\tsentence 1: In any field of inquiry  the beginner is more likely than the expert to make important contributions  \n",
      "\tsentence 2: In most professions and academic fields  imagination is more important than knowledge  \n",
      "\tsentence 3: Critical judgment of work in any given field has little value unless it comes from someone who is an expert in that field  \n",
      "\tsentence 4: Critical judgment of work in any given field has little value unless it comes from someone who is an expert in that field  \n",
      "\tsentence 5: In most professions and academic fields  imagination is more important than knowledge  \n",
      "\tsentence 6: No field of study can advance significantly unless it incorporates knowledge and experience from outside that field  \n",
      "cluster 6:\n",
      "\tsentence 0: Governments should focus on solving the immediate problems of today rather than on trying to solve the anticipated problems of the future  \n",
      "\tsentence 1: Governments should place few  if any  restrictions on scientific research and development  \n",
      "\tsentence 2: Governments should not fund any scientific research whose consequences are unclear  \n",
      "\tsentence 3: Governments should not fund any scientific research whose consequences are unclear  \n",
      "\tsentence 4: Claim  Major policy decisions should always be left to politicians and other government experts  nReason  Politicians and other government experts are more informed and thus have better judgment and perspective than do members of the general public  \n",
      "cluster 7:\n",
      "\tsentence 0: To understand the most important characteristics of a society  one must study its major cities  \n",
      "\tsentence 1: Claim  The best way to understand the character of a society is to examine the character of the men and women that the society chooses as its heroes or its role models  nReason  Heroes and role models reveal a society s highest ideals  \n",
      "\tsentence 2: Society should make efforts to save endangered species only if the potential extinction of those species is the result of human activities  \n",
      "\tsentence 3: Society should identify those children who have special talents and provide training for them at an early age to develop their talents  \n",
      "\tsentence 4: There is little justification for society to make extraordinary efforts   especially at a great cost in money and jobs   to save endangered animal or plant species  \n",
      "\tsentence 5: In this age of intensive media coverage  it is no longer possible for a society to regard any living man or woman as a hero  \n",
      "\tsentence 6: It is no longer possible for a society to regard any living man or woman as a hero  \n",
      "\tsentence 7: Unfortunately  in contemporary society  creating an appealing image has become more important than the reality or truth behind that image  \n",
      "\tsentence 8: The best way to understand the character of a society is to examine the character of the men and women that the society chooses as its heroes or its role models  \n",
      "cluster 8:\n",
      "\tsentence 0: College students should be encouraged to pursue subjects that interest them rather than the courses that seem most likely to lead to jobs  \n",
      "\tsentence 1: In order to become well rounded individuals  all college students should be required to take courses in which they read poetry  novels  mythology  and other types of imaginative literature  \n",
      "\tsentence 2: Learning is primarily a matter of personal discipline  students cannot be motivated by school or college alone  \n",
      "\tsentence 3: Colleges and universities should require their students to spend at least one semester studying in a foreign country  \n",
      "\tsentence 4: Colleges and universities should require their students to spend at least one semester studying in a foreign country  \n",
      "\tsentence 5: Colleges and universities should require their students to spend at least one semester studying in a foreign country  \n",
      "\tsentence 6: All college and university students would benefit from spending at least one semester studying in a foreign country  \n",
      "\tsentence 7: Claim  Colleges and universities should specify all required courses and eliminate elective courses in order to provide clear guidance for students  nReason  College students   like people in general   prefer to follow directions rather than make their own decisions  \n",
      "cluster 9:\n",
      "\tsentence 0: Claim  In any field   business  politics  education  government   those in power should step down after five years  nReason  The surest path to success for any enterprise is revitalization through new leadership  \n",
      "\tsentence 1: Governments should offer a free university education to any student who has been admitted to a university but who cannot afford the tuition  \n",
      "\tsentence 2: Governments should offer college and university education free of charge to all students  \n",
      "\tsentence 3: In any profession   business  politics  education  government   those in power should step down after five years  \n",
      "\tsentence 4: In any field   business  politics  education  government   those in power should be required to step down after five years  \n",
      "cluster 10:\n",
      "\tsentence 0: Educational institutions have a responsibility to dissuade students from pursuing fields of study in which they are unlikely to succeed  \n",
      "\tsentence 1: Educational institutions should actively encourage their students to choose fields of study that will prepare them for lucrative careers  \n",
      "\tsentence 2: Educational institutions should dissuade students from pursuing fields of study in which they are unlikely to succeed  \n",
      "\tsentence 3: Claim  When planning courses  educators should take into account the interests and suggestions of their students  nReason  Students are more motivated to learn when they are interested in what they are studying  \n",
      "\tsentence 4: Educators should teach facts only after their students have studied the ideas  trends  and concepts that help explain those facts  \n",
      "\tsentence 5: Educational institutions should actively encourage their students to choose fields of study in which jobs are plentiful  \n",
      "\tsentence 6: Educational institutions should actively encourage their students to choose fields of study that will prepare them for lucrative careers  \n",
      "\tsentence 7: Educational institutions should actively encourage their students to choose fields of study in which jobs are plentiful  \n",
      "\tsentence 8: Educational institutions have a responsibility to dissuade students from pursuing fields of study in which they are unlikely to succeed  \n",
      "cluster 11:\n",
      "\tsentence 0: Teachers  salaries should be based on their students  academic performance  \n",
      "\tsentence 1: Students should always question what they are taught instead of accepting it passively  \n",
      "\tsentence 2: Teachers  salaries should be based on the academic performance of their students  \n",
      "\tsentence 3: Educators should base their assessment of students  learning not on students  grasp of facts but on the ability to explain the ideas  trends  and concepts that those facts illustrate  \n",
      "\tsentence 4: Although innovations such as video  computers  and the Internet seem to offer schools improved methods for instructing students  these technologies all too often distract from real learning  \n",
      "cluster 12:\n",
      "\tsentence 0: The well being of a society is enhanced when many of its people question authority  \n",
      "\tsentence 1: Some people believe that society should try to save every plant and animal species  despite the expense to humans in effort  time  and financial well being  Others believe that society need not make extraordinary efforts  especially at a great cost in money and jobs  to save endangered species  \n",
      "\tsentence 2: People s attitudes are determined more by their immediate situation or surroundings than by society as a whole  \n",
      "\tsentence 3: Some people believe that in order to thrive  a society must put its own overall success before the well being of its individual citizens  Others believe that the well being of a society can only be measured by the general welfare of all its people  \n",
      "\tsentence 4: Some people believe that corporations have a responsibility to promote the well being of the societies and environments in which they operate  Others believe that the only responsibility of corporations  provided they operate within the law  is to make as much money as possible  \n",
      "cluster 13:\n",
      "\tsentence 0: Some people believe that competition for high grades motivates students to excel in the classroom  Others believe that such competition seriously limits the quality of real learning  \n",
      "\tsentence 1: Some people believe that the most important qualities of an effective teacher are understanding and empathy  Others believe that it is more important for teachers to be rigorous and demanding in their expectations for students  \n",
      "cluster 14:\n",
      "\tsentence 0: Formal education tends to restrain our minds and spirits rather than set them free  \n",
      "\tsentence 1: The best way to teach   whether as an educator  employer  or parent   is to praise positive actions and ignore negative ones  \n",
      "\tsentence 2: Competition for high grades seriously limits the quality of learning at all levels of education  \n",
      "\tsentence 3: Educators should find out what students want included in the curriculum and then offer it to them  \n",
      "\tsentence 4: Some people believe that the purpose of education is to free the mind and the spirit  Others believe that formal education tends to restrain our minds and spirits rather than set them free  \n",
      "\tsentence 5: Educators should take students  interests into account when planning the content of the courses they teach  \n",
      "cluster 15:\n",
      "\tsentence 0: In any situation  progress requires discussion among people who have contrasting points of view  \n",
      "\tsentence 1: All parents should be required to volunteer time to their children s schools  \n",
      "\tsentence 2: All parents should be required to volunteer time to their children s schools  \n",
      "cluster 16:\n",
      "\tsentence 0: Some people believe that college students should consider only their own talents and interests when choosing a field of study  Others believe that college students should base their choice of a field of study on the availability of jobs in that field  \n",
      "\tsentence 1: College students should base their choice of a field of study on the availability of jobs in that field  \n",
      "\tsentence 2: College students should base their choice of a field of study on the availability of jobs in that field  \n",
      "cluster 17:\n",
      "\tsentence 0: A nation should require all of its students to study the same national curriculum until they enter college  \n",
      "\tsentence 1: A nation should require all of its students to study the same national curriculum until they enter college  \n",
      "\tsentence 2: A nation should require all of its students to study the same national curriculum until they enter college  \n",
      "cluster 18:\n",
      "\tsentence 0: Some people believe that government funding of the arts is necessary to ensure that the arts can flourish and be available to all people  Others believe that government funding of the arts threatens the integrity of the arts  \n",
      "\tsentence 1: Government officials should rely on their own judgment rather than unquestioningly carry out the will of the people they serve  \n",
      "\tsentence 2: Government officials should rely on their own judgment rather than unquestioningly carry out the will of the people whom they serve  \n",
      "\tsentence 3: Some people argue that successful leaders in government  industry  or other fields must be highly competitive  Other people claim that in order to be successful  a leader must be willing and able to cooperate with others  \n",
      "cluster 19:\n",
      "\tsentence 0: Claim  Governments must ensure that their major cities receive the financial support they need in order to thrive  nReason  It is primarily in cities that a nation s cultural traditions are preserved and generated  \n",
      "\tsentence 1: Nations should suspend government funding for the arts when significant numbers of their citizens are hungry or unemployed  \n",
      "\tsentence 2: Claim  Nations should suspend government funding for the arts when significant numbers of their citizens are hungry or unemployed  nReason  It is inappropriate   and  perhaps  even cruel   to use public resources to fund the arts when people s basic needs are not being met  \n",
      "\tsentence 3: Some people claim that a nation s government should preserve its wilderness areas in their natural state  Others argue that these areas should be developed for potential economic gain  \n"
     ]
    }
   ],
   "source": [
    "nclusters = 20\n",
    "clusters = cluster_sentences(sentences, nclusters)\n",
    "for cluster in range(nclusters):\n",
    "    print(\"cluster {}:\".format(cluster))\n",
    "    for i, sentence in enumerate(clusters[cluster]):\n",
    "        print(\"\\tsentence {}: {}\".format(i, sentences[sentence]))"
   ]
  },
  {
   "cell_type": "code",
   "execution_count": 29,
   "metadata": {
    "scrolled": true
   },
   "outputs": [],
   "source": [
    "sentences_issue = []\n",
    "for index, issue in enumerate(prompts_issue):\n",
    "    topic = str(issue.topic)\n",
    "    topic_clean = re.sub(\"[^a-zA-Z]\", \" \", topic)\n",
    "    topic_clean = topic_clean[2:len(topic_clean)-2]\n",
    "    sentences_issue.append(topic_clean)\n",
    "    \n",
    "sentences_argument = []\n",
    "for index, issue in enumerate(prompts_argument):\n",
    "    topic = str(issue.topic)\n",
    "    topic_clean = re.sub(\"[^a-zA-Z]\", \" \", topic)\n",
    "    topic_clean = topic_clean[2:len(topic_clean)-2]\n",
    "    sentences_argument.append(topic_clean)"
   ]
  },
  {
   "cell_type": "code",
   "execution_count": 31,
   "metadata": {},
   "outputs": [],
   "source": [
    "from difflib import SequenceMatcher\n",
    "def similar(a, b):\n",
    "    return SequenceMatcher(None, a, b).ratio()\n",
    "\n",
    "import itertools\n",
    "def findSimilar(sentences, cutoff):\n",
    "    similar_sentences = []\n",
    "    for sentence1, sentence2 in itertools.combinations(sentences, 2):\n",
    "        similarity = similar(sentence1, sentence2)\n",
    "        if(similarity > cutoff[0] and similarity <= cutoff[1]):\n",
    "            similar_sentences.append((similarity, sentence1, sentence2))\n",
    "    return(similar_sentences)        "
   ]
  },
  {
   "cell_type": "code",
   "execution_count": 32,
   "metadata": {},
   "outputs": [],
   "source": [
    "sentences = sentences_issue\n",
    "issue_similar_95_100 = findSimilar(sentences, [0.95,1])\n",
    "issue_similar_90_95 = findSimilar(sentences, [0.9, 0.95])\n",
    "issue_similar_85_90 = findSimilar(sentences, [0.85, 0.9])\n",
    "issue_similar_80_85 = findSimilar(sentences, [0.8, 0.85])\n",
    "issue_similar_75_80 = findSimilar(sentences, [0.75, 0.8])\n",
    "\n",
    "sentences = sentences_argument\n",
    "argument_similar_95_100 = findSimilar(sentences, [0.95,1])\n",
    "argument_similar_90_95 = findSimilar(sentences, [0.9, 0.95])\n",
    "argument_similar_85_90 = findSimilar(sentences, [0.85, 0.9])\n",
    "argument_similar_80_85 = findSimilar(sentences, [0.8, 0.85])\n",
    "argument_similar_75_80 = findSimilar(sentences, [0.75, 0.8])"
   ]
  },
  {
   "cell_type": "code",
   "execution_count": 44,
   "metadata": {},
   "outputs": [
    {
     "name": "stdout",
     "output_type": "stream",
     "text": [
      "There are 24 issue prompts that are 95%+ similar to eachother\n",
      "There are 2 issue prompts that are 90-95% similar to eachother\n",
      "There are 2 issue prompts that are 85-90% similar to eachother\n",
      "There are 7 issue prompts that are 80-85% similar to eachother\n",
      "There are 7 issue prompts that are 75-80% similar to eachother\n",
      "\n",
      "\n",
      "There are 33 argument prompts that are 95%+ similar to eachother\n",
      "There are 4 argument prompts that are 90-95% similar to eachother\n",
      "There are 5 argument prompts that are 85-90% similar to eachother\n",
      "There are 7 argument prompts that are 80-85% similar to eachother\n",
      "There are 8 argument prompts that are 75-80% similar to eachother\n"
     ]
    }
   ],
   "source": [
    "print(f'There are {len(issue_similar_95_100)} issue prompts that are 95%+ similar to eachother')\n",
    "print(f'There are {len(issue_similar_90_95)} issue prompts that are 90-95% similar to eachother')\n",
    "print(f'There are {len(issue_similar_85_90)} issue prompts that are 85-90% similar to eachother')\n",
    "print(f'There are {len(issue_similar_80_85)} issue prompts that are 80-85% similar to eachother')\n",
    "print(f'There are {len(issue_similar_75_80)} issue prompts that are 75-80% similar to eachother')\n",
    "print(\"\\n\")\n",
    "print(f'There are {len(argument_similar_95_100)} argument prompts that are 95%+ similar to eachother')\n",
    "print(f'There are {len(argument_similar_90_95)} argument prompts that are 90-95% similar to eachother')\n",
    "print(f'There are {len(argument_similar_85_90)} argument prompts that are 85-90% similar to eachother')\n",
    "print(f'There are {len(argument_similar_80_85)} argument prompts that are 80-85% similar to eachother')\n",
    "print(f'There are {len(argument_similar_75_80)} argument prompts that are 75-80% similar to eachother')"
   ]
  },
  {
   "cell_type": "code",
   "execution_count": 45,
   "metadata": {},
   "outputs": [],
   "source": [
    "sentences_issue_copy = sentences_issue[:]\n",
    "sorted_sentences_issue = []\n",
    "for sentence_root in sentences_issue:\n",
    "    if sentence_root in sentences_issue_copy:\n",
    "        # Remove sentence from copy list, add to sorted list\n",
    "        sorted_sentences_issue.append(sentence_root)\n",
    "        sentences_issue_copy.remove(sentence_root)\n",
    "        for sentence_copy in sentences_issue_copy:\n",
    "            if similar(sentence_root, sentence_copy) >= 0.8:\n",
    "                sorted_sentences_issue.append(sentence_copy)\n",
    "                sentences_issue_copy.remove(sentence_copy)\n",
    "                \n",
    "sentences_argument_copy = sentences_argument[:]\n",
    "sorted_sentences_argument = []\n",
    "for sentence_root in sentences_argument:\n",
    "    if sentence_root in sentences_argument_copy:\n",
    "        # Remove sentence from copy list, add to sorted list\n",
    "        sorted_sentences_argument.append(sentence_root)\n",
    "        sentences_argument_copy.remove(sentence_root)\n",
    "        for sentence_copy in sentences_argument_copy:\n",
    "            if similar(sentence_root, sentence_copy) >= 0.8:\n",
    "                sorted_sentences_argument.append(sentence_copy)\n",
    "                sentences_argument_copy.remove(sentence_copy)\n",
    "                \n"
   ]
  },
  {
   "cell_type": "code",
   "execution_count": 46,
   "metadata": {},
   "outputs": [
    {
     "name": "stdout",
     "output_type": "stream",
     "text": [
      "149\n",
      "175\n"
     ]
    }
   ],
   "source": [
    "print(len(sorted_sentences_issue))\n",
    "print(len(sorted_sentences_argument))"
   ]
  },
  {
   "cell_type": "code",
   "execution_count": 48,
   "metadata": {},
   "outputs": [],
   "source": [
    "with open(\"sorted_prompts_issue.txt\", \"w\") as f:\n",
    "    for sentence_issue in sorted_sentences_issue:\n",
    "        f.write(sentence_issue + \"\\n \\n\")\n",
    "\n",
    "with open(\"sorted_prompts_argument.txt\", \"w\") as f:\n",
    "    for sentence_argument in sorted_sentences_argument:\n",
    "        f.write(sentence_argument + \"\\n \\n\")"
   ]
  },
  {
   "cell_type": "code",
   "execution_count": null,
   "metadata": {},
   "outputs": [],
   "source": []
  }
 ],
 "metadata": {
  "kernelspec": {
   "display_name": "Python 3",
   "language": "python",
   "name": "python3"
  },
  "language_info": {
   "codemirror_mode": {
    "name": "ipython",
    "version": 3
   },
   "file_extension": ".py",
   "mimetype": "text/x-python",
   "name": "python",
   "nbconvert_exporter": "python",
   "pygments_lexer": "ipython3",
   "version": "3.7.3"
  }
 },
 "nbformat": 4,
 "nbformat_minor": 2
}
